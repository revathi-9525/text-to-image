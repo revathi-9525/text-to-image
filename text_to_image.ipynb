{
  "nbformat": 4,
  "nbformat_minor": 0,
  "metadata": {
    "colab": {
      "provenance": [],
      "gpuType": "T4",
      "authorship_tag": "ABX9TyMLdVNV5ZlhRQgzyIwL7P05"
    },
    "kernelspec": {
      "name": "python3",
      "display_name": "Python 3"
    },
    "language_info": {
      "name": "python"
    },
    "accelerator": "GPU"
  },
  "cells": [
    {
      "cell_type": "code",
      "execution_count": null,
      "metadata": {
        "id": "HFpH5DDvKH7J"
      },
      "outputs": [],
      "source": [
        "# Install torch with CUDA support for Tesla T4 (CUDA 12.1 wheels)\n",
        "!pip install torch torchvision --index-url https://download.pytorch.org/whl/cu121\n",
        "\n",
        "# Install Hugging Face libraries and a specific version of peft\n",
        "!pip install diffusers transformers accelerate safetensors peft==0.11.1"
      ]
    },
    {
      "cell_type": "code",
      "source": [
        "prompts = [\n",
        "    \"A magical forest with glowing trees, fantasy art\",\n",
        "    \"A cyberpunk street with neon lights, ultra realistic\",\n",
        "    \"A cute anime girl with blue hair, smiling, soft shading\"\n",
        "]\n",
        "\n",
        "# Generate images\n",
        "images = pipe(prompts).images\n",
        "\n",
        "# Save & display\n",
        "for i, img in enumerate(images):\n",
        "    img.save(f\"output_{i}.png\")\n",
        "    display(img)"
      ],
      "metadata": {
        "id": "tr1D6iwHPLBY"
      },
      "execution_count": null,
      "outputs": []
    },
    {
      "cell_type": "code",
      "source": [
        "from diffusers import StableDiffusionPipeline\n",
        "import torch\n",
        "\n",
        "# Load pretrained Stable Diffusion v1.5\n",
        "model_id = \"runwayml/stable-diffusion-v1-5\"\n",
        "\n",
        "pipe = StableDiffusionPipeline.from_pretrained(model_id, torch_dtype=torch.float16)\n",
        "pipe = pipe.to(\"cuda\")  # Use GPU\n",
        "\n",
        "prompt = \"sunrising behind the mountains\"\n",
        "\n",
        "# Generate at 768x768\n",
        "image = pipe(prompt, height=768, width=768).images[0]\n",
        "\n",
        "image.save(\"dragon.png\")\n",
        "display(image)"
      ],
      "metadata": {
        "id": "uasylf-YXgW6"
      },
      "execution_count": null,
      "outputs": []
    },
    {
      "cell_type": "code",
      "source": [
        "from diffusers import StableDiffusionPipeline\n",
        "import torch\n",
        "\n",
        "# Load pretrained Stable Diffusion v1.5\n",
        "model_id = \"runwayml/stable-diffusion-v1-5\"\n",
        "\n",
        "pipe = StableDiffusionPipeline.from_pretrained(model_id, torch_dtype=torch.float16)\n",
        "pipe = pipe.to(\"cuda\")  # Use GPU\n",
        "\n",
        "prompt = \"A futuristic city with neon lights, ultra realistic, cyberpunk style\"\n",
        "\n",
        "# Generate at 768x768\n",
        "image = pipe(prompt, height=768, width=768).images[0]\n",
        "\n",
        "image.save(\"dragon.png\")\n",
        "display(image)"
      ],
      "metadata": {
        "id": "AW7oWSjuaLx4"
      },
      "execution_count": null,
      "outputs": []
    },
    {
      "cell_type": "code",
      "source": [
        "from diffusers import StableDiffusionPipeline\n",
        "import torch\n",
        "\n",
        "# Load pretrained Stable Diffusion v1.5\n",
        "model_id = \"runwayml/stable-diffusion-v1-5\"\n",
        "\n",
        "pipe = StableDiffusionPipeline.from_pretrained(model_id, torch_dtype=torch.float16)\n",
        "pipe = pipe.to(\"cuda\")  # Use GPU\n",
        "\n",
        "prompt = \"a house made with wood and infront of the house there is a river with village environment\"\n",
        "\n",
        "# Generate at 768x768\n",
        "image = pipe(prompt, height=768, width=768).images[0]\n",
        "\n",
        "image.save(\"dragon.png\")\n",
        "display(image)"
      ],
      "metadata": {
        "id": "Cw_oSwrIguzt"
      },
      "execution_count": null,
      "outputs": []
    }
  ]
}