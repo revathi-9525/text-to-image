{
  "nbformat": 4,
  "nbformat_minor": 0,
  "metadata": {
    "colab": {
      "provenance": [],
      "gpuType": "T4",
      "authorship_tag": "ABX9TyMI0lzsMUNQMW4KmDUTqcuy",
      "include_colab_link": true
    },
    "kernelspec": {
      "name": "python3",
      "display_name": "Python 3"
    },
    "language_info": {
      "name": "python"
    },
    "accelerator": "GPU"
  },
  "cells": [
    {
      "cell_type": "markdown",
      "metadata": {
        "id": "view-in-github",
        "colab_type": "text"
      },
      "source": [
        "<a href=\"https://colab.research.google.com/github/revathi-9525/text-to-image/blob/main/UserDefinedPrompt.ipynb\" target=\"_parent\"><img src=\"https://colab.research.google.com/assets/colab-badge.svg\" alt=\"Open In Colab\"/></a>"
      ]
    },
    {
      "cell_type": "code",
      "source": [
        "# Install torch with CUDA support for Tesla T4 (CUDA 12.1 wheels)\n",
        "!pip install torch torchvision --index-url https://download.pytorch.org/whl/cu121\n",
        "\n",
        "# Install Hugging Face libraries and a specific version of peft\n",
        "!pip install diffusers transformers accelerate safetensors peft>=0.15.0"
      ],
      "metadata": {
        "id": "9WTO1DI4_XBv"
      },
      "execution_count": null,
      "outputs": []
    },
    {
      "cell_type": "code",
      "source": [
        "!pip install -U peft"
      ],
      "metadata": {
        "id": "w0xi_Wwq_sgI"
      },
      "execution_count": null,
      "outputs": []
    },
    {
      "cell_type": "code",
      "source": [
        "from diffusers import StableDiffusionPipeline\n",
        "import torch\n",
        "\n",
        "pipe = StableDiffusionPipeline.from_pretrained(\n",
        "    \"dreamlike-art/dreamlike-diffusion-1.0\",\n",
        "    torch_dtype=torch.float16\n",
        ").to(\"cuda\")"
      ],
      "metadata": {
        "id": "vK_Otd6NADYs"
      },
      "execution_count": null,
      "outputs": []
    },
    {
      "cell_type": "code",
      "execution_count": null,
      "metadata": {
        "id": "2KOyaFWi9zNv"
      },
      "outputs": [],
      "source": [
        "from diffusers import StableDiffusionPipeline\n",
        "import torch\n",
        "\n",
        "# Load model\n",
        "model_id = \"dreamlike-art/dreamlike-diffusion-1.0\"\n",
        "pipe = StableDiffusionPipeline.from_pretrained(model_id, torch_dtype=torch.float16)\n",
        "pipe = pipe.to(\"cuda\")  # Change to \"cpu\" if GPU not available\n",
        "\n",
        "# ✅ User-defined inputs\n",
        "prompt = input(\"Enter your prompt: \")  # e.g. \"A futuristic city at sunset\"\n",
        "height = int(input(\"Enter image height (e.g. 512 or 768): \"))\n",
        "width = int(input(\"Enter image width (e.g. 512 or 768): \"))\n",
        "filename = input(\"Enter filename to save (e.g. output.png): \")\n",
        "\n",
        "# Generate image\n",
        "image = pipe(prompt, height=height, width=width).images[0]\n",
        "\n",
        "# Save & display\n",
        "image.save(filename)\n",
        "print(f\"Image saved as {filename}\")\n",
        "display(image)\n"
      ]
    }
  ]
}